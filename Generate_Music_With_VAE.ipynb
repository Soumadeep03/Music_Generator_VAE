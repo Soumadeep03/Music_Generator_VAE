{
  "cells": [
    {
      "cell_type": "code",
      "execution_count": null,
      "metadata": {
        "_kg_hide-output": true,
        "execution": {
          "iopub.execute_input": "2021-11-21T00:57:54.095776Z",
          "iopub.status.busy": "2021-11-21T00:57:54.095272Z",
          "iopub.status.idle": "2021-11-21T00:58:24.064231Z",
          "shell.execute_reply": "2021-11-21T00:58:24.063363Z",
          "shell.execute_reply.started": "2021-11-21T00:57:54.095728Z"
        },
        "id": "XmG1lzp5Jon1",
        "trusted": true
      },
      "outputs": [],
      "source": [
        "!/opt/conda/bin/python3.7 -m pip install --upgrade pip\n",
        "!pip install tensorflow-addons\n",
        "!pip install --upgrade --ignore-installed tensorflow\n",
        "!pip install -q imageio\n",
        "!pip install -q git+https://github.com/tensorflow/docs"
      ]
    },
    {
      "cell_type": "code",
      "execution_count": 1,
      "metadata": {
        "_kg_hide-output": true,
        "execution": {
          "iopub.execute_input": "2021-11-21T00:58:24.067559Z",
          "iopub.status.busy": "2021-11-21T00:58:24.067199Z",
          "iopub.status.idle": "2021-11-21T00:58:29.309125Z",
          "shell.execute_reply": "2021-11-21T00:58:29.308204Z",
          "shell.execute_reply.started": "2021-11-21T00:58:24.067518Z"
        },
        "id": "9dW17ecr5IYC",
        "trusted": true
      },
      "outputs": [],
      "source": [
        "import librosa\n",
        "\n",
        "import numpy as np\n",
        "import pandas as pd\n",
        "import os\n",
        "\n",
        "import tensorflow as tf\n",
        "import tensorflow_addons as tfa\n",
        "from tensorflow.keras import layers \n",
        "\n",
        "import matplotlib.pyplot as plt\n",
        "from IPython import display\n",
        "from IPython.display import clear_output\n",
        "\n",
        "import glob\n",
        "import imageio\n",
        "import time\n",
        "import IPython.display as ipd\n",
        "\n",
        "AUTOTUNE = tf.data.experimental.AUTOTUNE"
      ]
    },
    {
      "cell_type": "code",
      "execution_count": 2,
      "metadata": {
        "execution": {
          "iopub.execute_input": "2021-11-21T00:58:29.325209Z",
          "iopub.status.busy": "2021-11-21T00:58:29.32471Z",
          "iopub.status.idle": "2021-11-21T00:58:30.940037Z",
          "shell.execute_reply": "2021-11-21T00:58:30.939185Z",
          "shell.execute_reply.started": "2021-11-21T00:58:29.325166Z"
        },
        "id": "Rf_iJJoWEkEF",
        "trusted": true
      },
      "outputs": [],
      "source": [
        "seed=123\n",
        "tf.compat.v1.set_random_seed(seed)\n",
        "session_conf = tf.compat.v1.ConfigProto(intra_op_parallelism_threads=1, inter_op_parallelism_threads=1)\n",
        "sess = tf.compat.v1.Session(graph=tf.compat.v1.get_default_graph(), config=session_conf)\n",
        "tf.compat.v1.keras.backend.set_session(sess)"
      ]
    },
    {
      "cell_type": "code",
      "execution_count": 10,
      "metadata": {
        "execution": {
          "iopub.execute_input": "2021-11-21T01:12:36.325964Z",
          "iopub.status.busy": "2021-11-21T01:12:36.32564Z",
          "iopub.status.idle": "2021-11-21T01:12:36.332451Z",
          "shell.execute_reply": "2021-11-21T01:12:36.331575Z",
          "shell.execute_reply.started": "2021-11-21T01:12:36.325934Z"
        },
        "id": "BLdVyNVHrFF1",
        "trusted": true
      },
      "outputs": [],
      "source": [
        "train_size = 60000\n",
        "BATCH_SIZE = 10\n",
        "test_size = 10000\n",
        "epochs = 20\n",
        "latent_dim = 2\n",
        "num_examples_to_generate = 10\n",
        "\n",
        "BASE_PATH = '../input/gtzan-dataset-music-genre-classification/Data/genres_original'"
      ]
    },
    {
      "cell_type": "markdown",
      "metadata": {
        "id": "AWT8zzPoJon5"
      },
      "source": [
        "## Data preprocessing"
      ]
    },
    {
      "cell_type": "code",
      "execution_count": 11,
      "metadata": {
        "execution": {
          "iopub.execute_input": "2021-11-21T00:58:30.950427Z",
          "iopub.status.busy": "2021-11-21T00:58:30.949566Z",
          "iopub.status.idle": "2021-11-21T00:58:30.962268Z",
          "shell.execute_reply": "2021-11-21T00:58:30.961304Z",
          "shell.execute_reply.started": "2021-11-21T00:58:30.950386Z"
        },
        "id": "NtThS3oVWU85",
        "trusted": true
      },
      "outputs": [],
      "source": [
        "def DatasetLoader(class_):\n",
        "    music_list = np.array(sorted(os.listdir(BASE_PATH+'/'+class_)))\n",
        "    train_music_1 = list(music_list[[0,52,19,39,71,12,75,85,3,45,24,46,88]]) #99,10,66,76,41\n",
        "    train_music_2 = list(music_list[[4,43,56,55,45,31,11,13,70,37,21,78]]) #65,32,53,22,19,80,89,\n",
        "    TrackSet_1 = [(BASE_PATH)+'/'+class_+'/%s'%(x) for x in train_music_1]\n",
        "    TrackSet_2 = [(BASE_PATH)+'/'+class_+'/%s'%(x) for x in train_music_2]\n",
        "\n",
        "    return TrackSet_1, TrackSet_2"
      ]
    },
    {
      "cell_type": "code",
      "execution_count": 12,
      "metadata": {
        "execution": {
          "iopub.execute_input": "2021-11-21T00:58:30.965149Z",
          "iopub.status.busy": "2021-11-21T00:58:30.964176Z",
          "iopub.status.idle": "2021-11-21T00:58:30.973156Z",
          "shell.execute_reply": "2021-11-21T00:58:30.972175Z",
          "shell.execute_reply.started": "2021-11-21T00:58:30.965109Z"
        },
        "id": "72nbIzueCYWq",
        "trusted": true
      },
      "outputs": [],
      "source": [
        "def load(file_):\n",
        "    data_, sampling_rate = librosa.load(file_,sr=3000, offset=0.0, duration=30)\n",
        "    data_ = data_.reshape(1,90001)\n",
        "    return data_\n",
        "map_data = lambda filename: tf.compat.v1.py_func(load, [filename], [tf.float32])"
      ]
    },
    {
      "cell_type": "code",
      "execution_count": null,
      "metadata": {
        "execution": {
          "iopub.execute_input": "2021-11-21T00:58:30.975983Z",
          "iopub.status.busy": "2021-11-21T00:58:30.97502Z",
          "iopub.status.idle": "2021-11-21T00:58:31.027974Z",
          "shell.execute_reply": "2021-11-21T00:58:31.027316Z",
          "shell.execute_reply.started": "2021-11-21T00:58:30.975943Z"
        },
        "id": "Z-q0fDhfeek_",
        "trusted": true
      },
      "outputs": [],
      "source": [
        "TrackSet_1, TrackSet_2 = DatasetLoader('jazz')"
      ]
    },
    {
      "cell_type": "markdown",
      "metadata": {
        "id": "diIWlGTIJon8"
      },
      "source": [
        "## sample original music"
      ]
    },
    {
      "cell_type": "code",
      "execution_count": null,
      "metadata": {
        "execution": {
          "iopub.execute_input": "2021-11-21T00:58:31.030654Z",
          "iopub.status.busy": "2021-11-21T00:58:31.029946Z",
          "iopub.status.idle": "2021-11-21T00:58:32.229861Z",
          "shell.execute_reply": "2021-11-21T00:58:32.228976Z",
          "shell.execute_reply.started": "2021-11-21T00:58:31.030615Z"
        },
        "id": "qZbdkAlxJon8",
        "trusted": true
      },
      "outputs": [],
      "source": [
        "sample = TrackSet_1[1]\n",
        "sample_, sampling_rate = librosa.load(sample,sr=3000, offset=0.0, duration=30)\n",
        "ipd.Audio(sample_,rate=3000)"
      ]
    },
    {
      "cell_type": "code",
      "execution_count": null,
      "metadata": {
        "execution": {
          "iopub.execute_input": "2021-11-21T00:58:32.231455Z",
          "iopub.status.busy": "2021-11-21T00:58:32.231114Z",
          "iopub.status.idle": "2021-11-21T00:58:35.237027Z",
          "shell.execute_reply": "2021-11-21T00:58:35.236026Z",
          "shell.execute_reply.started": "2021-11-21T00:58:32.231423Z"
        },
        "id": "tTb_ETmUB80m",
        "trusted": true
      },
      "outputs": [],
      "source": [
        "import librosa.display\n",
        "plt.figure(figsize=(18,15))\n",
        "for i in range(4):\n",
        "    plt.subplot(4, 4, i + 1)\n",
        "    j = load(TrackSet_1[i])\n",
        "    librosa.display.waveplot(j[0], sr=3000)\n",
        "    "
      ]
    },
    {
      "cell_type": "code",
      "execution_count": null,
      "metadata": {
        "execution": {
          "iopub.execute_input": "2021-11-21T01:12:40.137078Z",
          "iopub.status.busy": "2021-11-21T01:12:40.136732Z",
          "iopub.status.idle": "2021-11-21T01:12:40.15943Z",
          "shell.execute_reply": "2021-11-21T01:12:40.158703Z",
          "shell.execute_reply.started": "2021-11-21T01:12:40.137035Z"
        },
        "id": "WFrXrtoFPX1r",
        "trusted": true
      },
      "outputs": [],
      "source": [
        "train_dataset = (\n",
        "    tf.data.Dataset\n",
        "    .from_tensor_slices((TrackSet_1))\n",
        "    .map(map_data, num_parallel_calls=AUTOTUNE)\n",
        "    .shuffle(3)\n",
        "    .batch(BATCH_SIZE)\n",
        ")\n",
        "test_dataset = (\n",
        "    tf.data.Dataset\n",
        "    .from_tensor_slices((TrackSet_2))\n",
        "    .map(map_data, num_parallel_calls=AUTOTUNE)\n",
        "    .shuffle(3)\n",
        "    .batch(BATCH_SIZE)\n",
        ")"
      ]
    },
    {
      "cell_type": "markdown",
      "metadata": {
        "id": "fmd4b8ogJon9"
      },
      "source": [
        "## Network architecture"
      ]
    },
    {
      "cell_type": "code",
      "execution_count": null,
      "metadata": {
        "execution": {
          "iopub.execute_input": "2021-11-21T01:12:43.25134Z",
          "iopub.status.busy": "2021-11-21T01:12:43.250954Z",
          "iopub.status.idle": "2021-11-21T01:12:43.264156Z",
          "shell.execute_reply": "2021-11-21T01:12:43.26321Z",
          "shell.execute_reply.started": "2021-11-21T01:12:43.251305Z"
        },
        "id": "qo4mCvIvvl25",
        "trusted": true
      },
      "outputs": [],
      "source": [
        "class Resnet1DBlock(tf.keras.Model):\n",
        "    def __init__(self, kernel_size, filters,type='encode'):\n",
        "        super(Resnet1DBlock, self).__init__(name='')\n",
        "    \n",
        "        if type=='encode':\n",
        "            self.conv1a = layers.Conv1D(filters, kernel_size, 2,padding=\"same\")\n",
        "            self.conv1b = layers.Conv1D(filters, kernel_size, 1,padding=\"same\")\n",
        "            self.norm1a = tfa.layers.InstanceNormalization()\n",
        "            self.norm1b = tfa.layers.InstanceNormalization()\n",
        "        if type=='decode':\n",
        "            self.conv1a = layers.Conv1DTranspose(filters, kernel_size, 1,padding=\"same\")\n",
        "            self.conv1b = layers.Conv1DTranspose(filters, kernel_size, 1,padding=\"same\")\n",
        "            self.norm1a = tf.keras.layers.BatchNormalization()\n",
        "            self.norm1b = tf.keras.layers.BatchNormalization()\n",
        "        else:\n",
        "            return None\n",
        "\n",
        "    def call(self, input_tensor):\n",
        "        x = tf.nn.relu(input_tensor)\n",
        "        x = self.conv1a(x)\n",
        "        x = self.norm1a(x)\n",
        "        x = layers.LeakyReLU(0.4)(x)\n",
        "\n",
        "        x = self.conv1b(x)\n",
        "        x = self.norm1b(x)\n",
        "        x = layers.LeakyReLU(0.4)(x)\n",
        "\n",
        "        x += input_tensor\n",
        "        return tf.nn.relu(x)\n"
      ]
    },
    {
      "cell_type": "code",
      "execution_count": null,
      "metadata": {
        "execution": {
          "iopub.execute_input": "2021-11-21T01:12:43.811139Z",
          "iopub.status.busy": "2021-11-21T01:12:43.810818Z",
          "iopub.status.idle": "2021-11-21T01:12:43.830275Z",
          "shell.execute_reply": "2021-11-21T01:12:43.829342Z",
          "shell.execute_reply.started": "2021-11-21T01:12:43.811107Z"
        },
        "id": "unLIGpdE-6t-",
        "trusted": true
      },
      "outputs": [],
      "source": [
        "class CVAE(tf.keras.Model):\n",
        "    \"\"\"Convolutional variational autoencoder.\"\"\"\n",
        "\n",
        "    def __init__(self, latent_dim):\n",
        "        super(CVAE, self).__init__()\n",
        "        self.latent_dim = latent_dim\n",
        "        self.encoder = tf.keras.Sequential(\n",
        "            [\n",
        "                tf.keras.layers.InputLayer(input_shape=(1,90001)),\n",
        "                layers.Conv1D(64,1,2),\n",
        "                Resnet1DBlock(64,1),\n",
        "                layers.Conv1D(128,1,2),\n",
        "                Resnet1DBlock(128,1),\n",
        "                layers.Conv1D(128,1,2),\n",
        "                Resnet1DBlock(128,1),\n",
        "                layers.Conv1D(256,1,2),\n",
        "                Resnet1DBlock(256,1),\n",
        "                # No activation\n",
        "                layers.Flatten(),\n",
        "                layers.Dense(latent_dim+latent_dim)\n",
        "\n",
        "            ]\n",
        "        )\n",
        "        self.decoder = tf.keras.Sequential(\n",
        "            [\n",
        "                tf.keras.layers.InputLayer(input_shape=(latent_dim,)),\n",
        "                layers.Reshape(target_shape=(1,latent_dim)),\n",
        "                Resnet1DBlock(512,1,'decode'),\n",
        "                layers.Conv1DTranspose(512,1,1),\n",
        "                Resnet1DBlock(256,1,'decode'),\n",
        "                layers.Conv1DTranspose(256,1,1),\n",
        "                Resnet1DBlock(128,1,'decode'),\n",
        "                layers.Conv1DTranspose(128,1,1),\n",
        "                Resnet1DBlock(64,1,'decode'),\n",
        "                layers.Conv1DTranspose(64,1,1),\n",
        "                # No activation\n",
        "                layers.Conv1DTranspose(90001,1,1),\n",
        "            ]\n",
        "        )\n",
        "    @tf.function\n",
        "    def sample(self, eps=None):\n",
        "        if eps is None:\n",
        "            eps = tf.random.normal(shape=(200, self.latent_dim))\n",
        "        return self.decode(eps, apply_sigmoid=True)\n",
        "    @tf.function\n",
        "    def encode(self, x):\n",
        "        mean, logvar = tf.split(self.encoder(x), num_or_size_splits=2, axis=1)\n",
        "        return mean, logvar\n",
        "    @tf.function\n",
        "    def reparameterize(self, mean, logvar):\n",
        "        eps = tf.random.normal(shape=mean.shape)\n",
        "        return eps * tf.exp(logvar * .5) + mean\n",
        "    @tf.function\n",
        "    def decode(self, z, apply_sigmoid=False):\n",
        "        logits = self.decoder(z)\n",
        "        if apply_sigmoid:\n",
        "            probs = tf.sigmoid(logits)\n",
        "            return probs\n",
        "        return logits"
      ]
    },
    {
      "cell_type": "code",
      "execution_count": null,
      "metadata": {
        "execution": {
          "iopub.execute_input": "2021-11-21T01:12:44.481562Z",
          "iopub.status.busy": "2021-11-21T01:12:44.481261Z",
          "iopub.status.idle": "2021-11-21T01:12:44.497145Z",
          "shell.execute_reply": "2021-11-21T01:12:44.496404Z",
          "shell.execute_reply.started": "2021-11-21T01:12:44.481534Z"
        },
        "id": "HjF7biGGEKML",
        "trusted": true
      },
      "outputs": [],
      "source": [
        "optimizer = tf.keras.optimizers.Adam(0.0003,beta_1=0.9, beta_2=0.999,epsilon=1e-08)"
      ]
    },
    {
      "cell_type": "code",
      "execution_count": null,
      "metadata": {
        "execution": {
          "iopub.execute_input": "2021-11-21T01:12:47.064841Z",
          "iopub.status.busy": "2021-11-21T01:12:47.064505Z",
          "iopub.status.idle": "2021-11-21T01:12:47.071907Z",
          "shell.execute_reply": "2021-11-21T01:12:47.070826Z",
          "shell.execute_reply.started": "2021-11-21T01:12:47.064811Z"
        },
        "id": "o-RrkE6mG9Zp",
        "trusted": true
      },
      "outputs": [],
      "source": [
        "@tf.function\n",
        "def log_normal_pdf(sample, mean, logvar, raxis=1):\n",
        "    log2pi = tf.math.log(2. * np.pi)\n",
        "    return tf.reduce_sum(\n",
        "         -.5 * ((sample - mean) ** 2. * tf.exp(-logvar) + logvar + log2pi),\n",
        "          axis=raxis)"
      ]
    },
    {
      "cell_type": "code",
      "execution_count": null,
      "metadata": {
        "execution": {
          "iopub.execute_input": "2021-11-21T01:12:48.056774Z",
          "iopub.status.busy": "2021-11-21T01:12:48.056459Z",
          "iopub.status.idle": "2021-11-21T01:12:48.075996Z",
          "shell.execute_reply": "2021-11-21T01:12:48.075331Z",
          "shell.execute_reply.started": "2021-11-21T01:12:48.056745Z"
        },
        "id": "KHmERgizHMAQ",
        "trusted": true
      },
      "outputs": [],
      "source": [
        "@tf.function\n",
        "def compute_loss(model, x):\n",
        "    mean, logvar = model.encode(x)\n",
        "    z = model.reparameterize(mean, logvar)\n",
        "    x_logit = model.decode(z)\n",
        "    cross_ent = tf.nn.sigmoid_cross_entropy_with_logits(logits=x_logit, labels=x)\n",
        "    logpx_z = -tf.reduce_sum(cross_ent, axis=[1,2])\n",
        "    logpz = log_normal_pdf(z, 0., 0.)\n",
        "    logqz_x = log_normal_pdf(z, mean, logvar)\n",
        "    return -tf.reduce_mean(logpx_z + logpz - logqz_x)"
      ]
    },
    {
      "cell_type": "code",
      "execution_count": null,
      "metadata": {
        "execution": {
          "iopub.execute_input": "2021-11-21T01:12:51.316065Z",
          "iopub.status.busy": "2021-11-21T01:12:51.315725Z",
          "iopub.status.idle": "2021-11-21T01:12:51.376318Z",
          "shell.execute_reply": "2021-11-21T01:12:51.375353Z",
          "shell.execute_reply.started": "2021-11-21T01:12:51.316029Z"
        },
        "id": "PWi7z22ZHO_l",
        "trusted": true
      },
      "outputs": [],
      "source": [
        "@tf.function\n",
        "def train_step(model, x, optimizer):\n",
        "    with tf.GradientTape() as tape:\n",
        "            mean, logvar = model.encode(x)\n",
        "            z = model.reparameterize(mean, logvar)\n",
        "            x_logit = model.decode(z)\n",
        "            cross_ent = tf.nn.sigmoid_cross_entropy_with_logits(logits=x_logit, labels=x)\n",
        "            logpx_z = -tf.reduce_sum(cross_ent, axis=[1,2])\n",
        "            logpz = log_normal_pdf(z, 0., 0.)\n",
        "            logqz_x = log_normal_pdf(z, mean, logvar)\n",
        "            loss_KL = -tf.reduce_mean(logpx_z + logpz - logqz_x)\n",
        "            reconstruction_loss = tf.reduce_mean(\n",
        "                     tf.keras.losses.binary_crossentropy(x, x_logit)\n",
        "                 )\n",
        "            total_loss = reconstruction_loss+ loss_KL\n",
        "    gradients = tape.gradient(total_loss, model.trainable_variables)\n",
        "    optimizer.apply_gradients(zip(gradients, model.trainable_variables))"
      ]
    },
    {
      "cell_type": "code",
      "execution_count": null,
      "metadata": {
        "execution": {
          "iopub.execute_input": "2021-11-21T01:12:51.988733Z",
          "iopub.status.busy": "2021-11-21T01:12:51.988414Z",
          "iopub.status.idle": "2021-11-21T01:12:52.862647Z",
          "shell.execute_reply": "2021-11-21T01:12:52.861852Z",
          "shell.execute_reply.started": "2021-11-21T01:12:51.988704Z"
        },
        "id": "zqtNDolCHSao",
        "trusted": true
      },
      "outputs": [],
      "source": [
        "random_vector_for_generation = tf.random.normal(\n",
        "    shape=[num_examples_to_generate, latent_dim])\n",
        "model = CVAE(latent_dim)"
      ]
    },
    {
      "cell_type": "code",
      "execution_count": null,
      "metadata": {
        "execution": {
          "iopub.execute_input": "2021-11-21T01:12:52.867894Z",
          "iopub.status.busy": "2021-11-21T01:12:52.867529Z",
          "iopub.status.idle": "2021-11-21T01:12:52.878565Z",
          "shell.execute_reply": "2021-11-21T01:12:52.877471Z",
          "shell.execute_reply.started": "2021-11-21T01:12:52.867858Z"
        },
        "id": "5YymBIlcnMmQ",
        "trusted": true
      },
      "outputs": [],
      "source": [
        "import librosa.display\n",
        "\n",
        "def generate_and_save_images(model, epoch, test_sample, save):\n",
        "    mean, logvar = model.encode(test_sample)\n",
        "    z = model.reparameterize(mean, logvar)\n",
        "    predictions = model.sample(z)\n",
        "    fig = plt.figure(figsize=(18, 15))\n",
        "\n",
        "    for i in range(predictions.shape[0]):\n",
        "        plt.subplot(4, 4, i + 1)\n",
        "        wave = np.asarray(predictions[i])\n",
        "        librosa.display.waveplot(wave[0], sr=3000)\n",
        "\n",
        "    # tight_layout minimizes the overlap between 2 sub-plots\n",
        "    plt.savefig('{}_{:04d}.png'.format(save, epoch))\n",
        "    plt.savefig('{}_{:04d}.png'.format(save, epoch))\n",
        "    plt.show()"
      ]
    },
    {
      "cell_type": "code",
      "execution_count": null,
      "metadata": {
        "execution": {
          "iopub.execute_input": "2021-11-21T01:12:53.44812Z",
          "iopub.status.busy": "2021-11-21T01:12:53.447807Z",
          "iopub.status.idle": "2021-11-21T01:12:59.080441Z",
          "shell.execute_reply": "2021-11-21T01:12:59.079536Z",
          "shell.execute_reply.started": "2021-11-21T01:12:53.44809Z"
        },
        "id": "qB-85OsqoU2B",
        "trusted": true
      },
      "outputs": [],
      "source": [
        "# Pick a sample of the test set for generating output images\n",
        "assert BATCH_SIZE >= num_examples_to_generate\n",
        "for test_batch in test_dataset.take(1):\n",
        "    test_sample = test_batch[0]"
      ]
    },
    {
      "cell_type": "markdown",
      "metadata": {
        "id": "81oHY3sfJon_"
      },
      "source": [
        "## Training the model"
      ]
    },
    {
      "cell_type": "code",
      "execution_count": null,
      "metadata": {
        "execution": {
          "iopub.execute_input": "2021-11-21T01:12:59.085385Z",
          "iopub.status.busy": "2021-11-21T01:12:59.084778Z",
          "iopub.status.idle": "2021-11-21T01:20:09.766149Z",
          "shell.execute_reply": "2021-11-21T01:20:09.764043Z",
          "shell.execute_reply.started": "2021-11-21T01:12:59.085341Z"
        },
        "id": "hTt1sUZMYADG",
        "trusted": true
      },
      "outputs": [],
      "source": [
        "generate_and_save_images(model, 0, test_sample, 'jazz')\n",
        "def train(train_dataset, test_dataset, model, save):\n",
        "    for epoch in range(1, epochs + 1):\n",
        "        start_time = time.time()\n",
        "        for train_x in train_dataset:\n",
        "            train_x = np.asarray(train_x)[0]\n",
        "            train_step(model, train_x, optimizer)\n",
        "        end_time = time.time()\n",
        "\n",
        "        loss = tf.keras.metrics.Mean()\n",
        "        for test_x in test_dataset:\n",
        "            test_x = np.asarray(test_x)[0]\n",
        "            loss(compute_loss(model, test_x))\n",
        "        display.clear_output(wait=False)\n",
        "        elbo = -loss.result()\n",
        "        print('Epoch: {}, Test set ELBO: {}, time elapse for current epoch: {}'.format(epoch, \n",
        "                                                                                       elbo, \n",
        "                                                                                       end_time - start_time\n",
        "                                                                                      ))\n",
        "        generate_and_save_images(model,\n",
        "                                 epoch, \n",
        "                                 test_sample,\n",
        "                                 save)\n",
        "train(train_dataset, test_dataset, model, 'jazz')"
      ]
    },
    {
      "cell_type": "code",
      "execution_count": null,
      "metadata": {
        "execution": {
          "iopub.status.busy": "2021-11-21T01:12:18.285738Z",
          "iopub.status.idle": "2021-11-21T01:12:18.286523Z"
        },
        "id": "pQcs-r6cIoRd",
        "trusted": true
      },
      "outputs": [],
      "source": [
        "anim_file_1 = 'jazz_cvae.gif'\n",
        "\n",
        "with imageio.get_writer(anim_file_1, mode='I') as writer:\n",
        "    filenames = glob.glob('jazz*.png')\n",
        "    filenames = sorted(filenames)\n",
        "    for filename in filenames:\n",
        "        image = imageio.imread(filename)\n",
        "        writer.append_data(image)\n",
        "    image = imageio.imread(filename)\n",
        "    writer.append_data(image)"
      ]
    },
    {
      "cell_type": "markdown",
      "metadata": {
        "id": "AcH2Q6CCJon_"
      },
      "source": [
        "## Visualization"
      ]
    },
    {
      "cell_type": "code",
      "execution_count": null,
      "metadata": {
        "execution": {
          "iopub.status.busy": "2021-11-21T01:12:18.287739Z",
          "iopub.status.idle": "2021-11-21T01:12:18.288485Z"
        },
        "id": "4lTUTQTmIuRC",
        "trusted": true
      },
      "outputs": [],
      "source": [
        "import tensorflow_docs.vis.embed as embed\n",
        "embed.embed_file(anim_file_1)"
      ]
    },
    {
      "cell_type": "code",
      "execution_count": null,
      "metadata": {
        "execution": {
          "iopub.status.busy": "2021-11-21T01:12:18.289606Z",
          "iopub.status.idle": "2021-11-21T01:12:18.290345Z"
        },
        "id": "W-K-ZxtCJon_",
        "trusted": true
      },
      "outputs": [],
      "source": [
        "def inference(test_dataset, model):  \n",
        "    save_music = []\n",
        "    for test in test_dataset:\n",
        "        mean, logvar = model.encode(test)\n",
        "        z = model.reparameterize(mean, logvar)\n",
        "        predictions = model.sample(z)\n",
        "        for pred in predictions:\n",
        "            wave = np.asarray(pred)\n",
        "            save_music.append(wave)\n",
        "    return save_music\n",
        "\n",
        "saved_musics = inference(test_dataset, model)"
      ]
    },
    {
      "cell_type": "code",
      "execution_count": null,
      "metadata": {
        "execution": {
          "iopub.status.busy": "2021-11-21T01:12:18.291651Z",
          "iopub.status.idle": "2021-11-21T01:12:18.292463Z"
        },
        "id": "7VlU5tcEf-cI",
        "trusted": true
      },
      "outputs": [],
      "source": [
        "music1=saved_musics[0][0]\n",
        "ipd.Audio(music1,rate=3000)"
      ]
    },
    {
      "cell_type": "code",
      "execution_count": null,
      "metadata": {
        "execution": {
          "iopub.status.busy": "2021-11-21T01:12:18.293649Z",
          "iopub.status.idle": "2021-11-21T01:12:18.294457Z"
        },
        "id": "Pu4LXmx1jF-2",
        "trusted": true
      },
      "outputs": [],
      "source": [
        "music2=saved_musics[9][0]\n",
        "ipd.Audio(music2,rate=3000)"
      ]
    },
    {
      "cell_type": "code",
      "execution_count": null,
      "metadata": {
        "execution": {
          "iopub.status.busy": "2021-11-21T01:12:18.295638Z",
          "iopub.status.idle": "2021-11-21T01:12:18.296491Z"
        },
        "id": "zg4DjptKJooA",
        "trusted": true
      },
      "outputs": [],
      "source": [
        "music3=saved_musics[5][0]\n",
        "ipd.Audio(music3,rate=3000)"
      ]
    },
    {
      "cell_type": "code",
      "execution_count": null,
      "metadata": {
        "execution": {
          "iopub.status.busy": "2021-11-21T01:12:18.297686Z",
          "iopub.status.idle": "2021-11-21T01:12:18.298466Z"
        },
        "id": "pi2RGgX5JooA",
        "trusted": true
      },
      "outputs": [],
      "source": [
        "music4=saved_musics[10][0]\n",
        "ipd.Audio(music4,rate=3000)"
      ]
    },
    {
      "cell_type": "code",
      "execution_count": null,
      "metadata": {
        "execution": {
          "iopub.status.busy": "2021-11-21T01:12:18.299623Z",
          "iopub.status.idle": "2021-11-21T01:12:18.300413Z"
        },
        "id": "4yNHTgLXJooA",
        "trusted": true
      },
      "outputs": [],
      "source": [
        "music5=saved_musics[8][0]\n",
        "ipd.Audio(music5,rate=3000)"
      ]
    },
    {
      "cell_type": "code",
      "execution_count": null,
      "metadata": {
        "execution": {
          "iopub.status.busy": "2021-11-21T01:12:18.301606Z",
          "iopub.status.idle": "2021-11-21T01:12:18.302401Z"
        },
        "id": "M0HWEWanJooA",
        "trusted": true
      },
      "outputs": [],
      "source": [
        "music6=saved_musics[7][0]\n",
        "ipd.Audio(music6,rate=3000)"
      ]
    },
    {
      "cell_type": "code",
      "execution_count": null,
      "metadata": {
        "id": "QW8ke1U4JooA"
      },
      "outputs": [],
      "source": [
        "tf.keras.backend.clear_session()\n",
        "tf.compat.v1.reset_default_graph()\n",
        "tf.compat.v1.set_random_seed(seed)\n",
        "session_conf = tf.compat.v1.ConfigProto(intra_op_parallelism_threads=1, inter_op_parallelism_threads=1)\n",
        "sess = tf.compat.v1.Session(graph=tf.compat.v1.get_default_graph(), config=session_conf)\n",
        "tf.compat.v1.keras.backend.set_session(sess)"
      ]
    },
    {
      "cell_type": "code",
      "execution_count": null,
      "metadata": {
        "execution": {
          "iopub.status.busy": "2021-11-21T01:12:18.305518Z",
          "iopub.status.idle": "2021-11-21T01:12:18.306304Z"
        },
        "id": "GzuXzwyej7YR",
        "trusted": true
      },
      "outputs": [],
      "source": [
        "TrackSet_3, TrackSet_4 = DatasetLoader('classical')"
      ]
    },
    {
      "cell_type": "code",
      "execution_count": null,
      "metadata": {
        "execution": {
          "iopub.status.busy": "2021-11-21T01:12:18.307474Z",
          "iopub.status.idle": "2021-11-21T01:12:18.308267Z"
        },
        "id": "Q6r8z_nkMV5x",
        "trusted": true
      },
      "outputs": [],
      "source": [
        "train_dataset = (\n",
        "    tf.data.Dataset\n",
        "    .from_tensor_slices((TrackSet_3))\n",
        "    .map(map_data, num_parallel_calls=AUTOTUNE)\n",
        "    .shuffle(3)\n",
        "    .batch(BATCH_SIZE)\n",
        ")\n",
        "test_dataset = (\n",
        "    tf.data.Dataset\n",
        "    .from_tensor_slices((TrackSet_4))\n",
        "    .map(map_data, num_parallel_calls=AUTOTUNE)\n",
        "    .shuffle(3)\n",
        "    .batch(BATCH_SIZE)\n",
        ")"
      ]
    },
    {
      "cell_type": "code",
      "execution_count": null,
      "metadata": {
        "execution": {
          "iopub.status.busy": "2021-11-21T01:12:18.311453Z",
          "iopub.status.idle": "2021-11-21T01:12:18.312232Z"
        },
        "id": "SqseIbNKMe2X",
        "trusted": true
      },
      "outputs": [],
      "source": [
        "model = CVAE(latent_dim)"
      ]
    },
    {
      "cell_type": "code",
      "execution_count": null,
      "metadata": {
        "execution": {
          "iopub.status.busy": "2021-11-21T01:12:18.313461Z",
          "iopub.status.idle": "2021-11-21T01:12:18.314322Z"
        },
        "id": "ZsIIwIOhNCVr",
        "trusted": true
      },
      "outputs": [],
      "source": [
        "assert BATCH_SIZE >= num_examples_to_generate\n",
        "for test_batch in test_dataset.take(1):\n",
        "    test_sample = test_batch[0]"
      ]
    },
    {
      "cell_type": "code",
      "execution_count": null,
      "metadata": {
        "id": "F_aqB4VRJooB"
      },
      "outputs": [],
      "source": [
        "@tf.function\n",
        "def log_normal_pdf(sample, mean, logvar, raxis=1):\n",
        "    log2pi = tf.math.log(2. * np.pi)\n",
        "    return tf.reduce_sum(\n",
        "         -.5 * ((sample - mean) ** 2. * tf.exp(-logvar) + logvar + log2pi),\n",
        "          axis=raxis)\n",
        "@tf.function\n",
        "def compute_loss(model, x):\n",
        "    mean, logvar = model.encode(x)\n",
        "    z = model.reparameterize(mean, logvar)\n",
        "    x_logit = model.decode(z)\n",
        "    cross_ent = tf.nn.sigmoid_cross_entropy_with_logits(logits=x_logit, labels=x)\n",
        "    logpx_z = -tf.reduce_sum(cross_ent, axis=[1,2])\n",
        "    logpz = log_normal_pdf(z, 0., 0.)\n",
        "    logqz_x = log_normal_pdf(z, mean, logvar)\n",
        "    return -tf.reduce_mean(logpx_z + logpz - logqz_x)\n",
        "@tf.function\n",
        "def train_step(model, x, optimizer):\n",
        "    with tf.GradientTape() as tape:\n",
        "            mean, logvar = model.encode(x)\n",
        "            z = model.reparameterize(mean, logvar)\n",
        "            x_logit = model.decode(z)\n",
        "            cross_ent = tf.nn.sigmoid_cross_entropy_with_logits(logits=x_logit, labels=x)\n",
        "            logpx_z = -tf.reduce_sum(cross_ent, axis=[1,2])\n",
        "            logpz = log_normal_pdf(z, 0., 0.)\n",
        "            logqz_x = log_normal_pdf(z, mean, logvar)\n",
        "            loss_KL = -tf.reduce_mean(logpx_z + logpz - logqz_x)\n",
        "            reconstruction_loss = tf.reduce_mean(\n",
        "                     tf.keras.losses.binary_crossentropy(x, x_logit)\n",
        "                 )\n",
        "            total_loss = reconstruction_loss+ loss_KL\n",
        "    gradients = tape.gradient(total_loss, model.trainable_variables)\n",
        "    optimizer.apply_gradients(zip(gradients, model.trainable_variables))"
      ]
    },
    {
      "cell_type": "code",
      "execution_count": null,
      "metadata": {
        "execution": {
          "iopub.status.busy": "2021-11-21T01:12:18.315506Z",
          "iopub.status.idle": "2021-11-21T01:12:18.316341Z"
        },
        "id": "6rkkmQCnNHpH",
        "trusted": true
      },
      "outputs": [],
      "source": [
        "generate_and_save_images(model, 0, test_sample, 'classical')   \n",
        "train(train_dataset, test_dataset, model, 'classical')"
      ]
    },
    {
      "cell_type": "code",
      "execution_count": null,
      "metadata": {
        "execution": {
          "iopub.status.busy": "2021-11-21T01:12:18.3175Z",
          "iopub.status.idle": "2021-11-21T01:12:18.318288Z"
        },
        "id": "WAKyCXFrNO8M",
        "trusted": true
      },
      "outputs": [],
      "source": [
        "anim_file_2 = 'classical_cvae.gif'\n",
        "\n",
        "with imageio.get_writer(anim_file_2, mode='I') as writer:\n",
        "    filenames = glob.glob('classical*.png')\n",
        "    filenames = sorted(filenames)\n",
        "    for filename in filenames:\n",
        "        image = imageio.imread(filename)\n",
        "        writer.append_data(image)\n",
        "    image = imageio.imread(filename)\n",
        "    writer.append_data(image)"
      ]
    },
    {
      "cell_type": "code",
      "execution_count": null,
      "metadata": {
        "execution": {
          "iopub.status.busy": "2021-11-21T01:12:18.319516Z",
          "iopub.status.idle": "2021-11-21T01:12:18.320334Z"
        },
        "id": "1cKznq16Q5Gg",
        "trusted": true
      },
      "outputs": [],
      "source": [
        "embed.embed_file(anim_file_2)"
      ]
    },
    {
      "cell_type": "markdown",
      "metadata": {
        "id": "0TvnaijwJooB"
      },
      "source": [
        "## Generated music - Classical"
      ]
    },
    {
      "cell_type": "code",
      "execution_count": null,
      "metadata": {
        "execution": {
          "iopub.status.busy": "2021-11-21T01:12:18.321488Z",
          "iopub.status.idle": "2021-11-21T01:12:18.32231Z"
        },
        "id": "JNIbI-XaJooB",
        "trusted": true
      },
      "outputs": [],
      "source": [
        "save_music_classic = inference(test_dataset, model)"
      ]
    },
    {
      "cell_type": "code",
      "execution_count": null,
      "metadata": {
        "execution": {
          "iopub.status.busy": "2021-11-21T01:12:18.323392Z",
          "iopub.status.idle": "2021-11-21T01:12:18.324111Z"
        },
        "id": "KroFSrKYJooB",
        "trusted": true
      },
      "outputs": [],
      "source": [
        "music1=save_music_classic[1][0]\n",
        "ipd.Audio(music1,rate=3000)"
      ]
    },
    {
      "cell_type": "code",
      "execution_count": null,
      "metadata": {
        "execution": {
          "iopub.status.busy": "2021-11-21T01:12:18.325217Z",
          "iopub.status.idle": "2021-11-21T01:12:18.325943Z"
        },
        "id": "-0VTOQ61JooC",
        "trusted": true
      },
      "outputs": [],
      "source": [
        "music2=save_music_classic[9][0]\n",
        "ipd.Audio(music2,rate=3000)"
      ]
    },
    {
      "cell_type": "code",
      "execution_count": null,
      "metadata": {
        "execution": {
          "iopub.status.busy": "2021-11-21T01:12:18.327027Z",
          "iopub.status.idle": "2021-11-21T01:12:18.32783Z"
        },
        "id": "p1paHbwPJooC",
        "trusted": true
      },
      "outputs": [],
      "source": [
        "music3=save_music_classic[4][0]\n",
        "ipd.Audio(music3,rate=3000)"
      ]
    },
    {
      "cell_type": "code",
      "execution_count": null,
      "metadata": {
        "execution": {
          "iopub.status.busy": "2021-11-21T01:12:18.328988Z",
          "iopub.status.idle": "2021-11-21T01:12:18.32979Z"
        },
        "id": "d0zDa6uHJooC",
        "trusted": true
      },
      "outputs": [],
      "source": [
        "music4=save_music_classic[5][0]\n",
        "ipd.Audio(music4,rate=3000)"
      ]
    },
    {
      "cell_type": "code",
      "execution_count": null,
      "metadata": {
        "execution": {
          "iopub.status.busy": "2021-11-21T01:12:18.330858Z",
          "iopub.status.idle": "2021-11-21T01:12:18.331651Z"
        },
        "id": "cPuWH5zeJooC",
        "trusted": true
      },
      "outputs": [],
      "source": [
        "music5=save_music_classic[8][0]\n",
        "ipd.Audio(music5,rate=3000)"
      ]
    },
    {
      "cell_type": "code",
      "execution_count": null,
      "metadata": {
        "execution": {
          "iopub.status.busy": "2021-11-21T01:12:18.332773Z",
          "iopub.status.idle": "2021-11-21T01:12:18.333509Z"
        },
        "id": "E2a9G9LxJooC",
        "trusted": true
      },
      "outputs": [],
      "source": [
        "music6=save_music_classic[7][0]\n",
        "ipd.Audio(music6,rate=3000)"
      ]
    }
  ],
  "metadata": {
    "colab": {
      "provenance": []
    },
    "kernelspec": {
      "display_name": "Python 3",
      "language": "python",
      "name": "python3"
    },
    "language_info": {
      "codemirror_mode": {
        "name": "ipython",
        "version": 3
      },
      "file_extension": ".py",
      "mimetype": "text/x-python",
      "name": "python",
      "nbconvert_exporter": "python",
      "pygments_lexer": "ipython3",
      "version": "3.6.4"
    }
  },
  "nbformat": 4,
  "nbformat_minor": 0
}
